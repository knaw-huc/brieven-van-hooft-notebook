{
 "cells": [
  {
   "cell_type": "markdown",
   "id": "9ec047cf",
   "metadata": {},
   "source": [
    "# Brieven van Hooft - Notebook\n",
    "\n",
    "## Introduction\n",
    "\n",
    "This notebook provides access to the linguistic and socio-linguistic\n",
    "annotations that were added to the letters by P.C van Hooft in an annotation\n",
    "project in 2017 by Marjo van Koppen and Marijn Schraagen.\n",
    "\n",
    "The letters come from \"De briefwisseling van Pieter Corneliszoon Hooft, edited\n",
    "by H.W van Tricht e.a.,\", as published by the DBNL in the following three\n",
    "parts:\n",
    "\n",
    "* [Part 1](https://www.dbnl.org/tekst/hoof001hwva02_01/)\n",
    "* [Part 2](https://www.dbnl.org/tekst/hoof001hwva03_01/)\n",
    "* [Part 3](https://www.dbnl.org/tekst/hoof001hwva04_01/)\n",
    "\n",
    "License information for these works can be found in\n",
    "[here](https://www.dbnl.org/titels/gebruiksvoorwaarden.php?id=hoof001hwva03).\n",
    "We did not receive the rights to publish the editorial parts of the texts that\n",
    "are not from the 17th century. They will still be available in this notebook as\n",
    "they can be downloaded from DBNL directly, but republishing them is not\n",
    "permitted unfortunately.\n",
    "\n",
    "The annotations were initially published in a combination of FoLiA XML and\n",
    "other stand-off formats. In 2024, they have been re-aligned with the original\n",
    "DBNL sources and published as a [STAM](https://annotation.github.io/stam) model.\n",
    "\n",
    "This notebook provides search and visualisation functionality on this STAM\n",
    "model. We will guide you through several examples. All code in this notebook\n",
    "can be executed, and if needed, modified to your liking.\n",
    "\n",
    "## Setup\n",
    "\n",
    "### Installing software"
   ]
  },
  {
   "cell_type": "code",
   "execution_count": 1,
   "id": "e9b599bc",
   "metadata": {},
   "outputs": [
    {
     "name": "stdout",
     "output_type": "stream",
     "text": [
      "\u001b[1;31merror\u001b[0m: \u001b[1mexternally-managed-environment\u001b[0m\n",
      "\n",
      "\u001b[31m×\u001b[0m This environment is externally managed\n",
      "\u001b[31m╰─>\u001b[0m To install Python packages system-wide, try 'pacman -S\n",
      "\u001b[31m   \u001b[0m python-xyz', where xyz is the package you are trying to\n",
      "\u001b[31m   \u001b[0m install.\n",
      "\u001b[31m   \u001b[0m \n",
      "\u001b[31m   \u001b[0m If you wish to install a non-Arch-packaged Python package,\n",
      "\u001b[31m   \u001b[0m create a virtual environment using 'python -m venv path/to/venv'.\n",
      "\u001b[31m   \u001b[0m Then use path/to/venv/bin/python and path/to/venv/bin/pip.\n",
      "\u001b[31m   \u001b[0m \n",
      "\u001b[31m   \u001b[0m If you wish to install a non-Arch packaged Python application,\n",
      "\u001b[31m   \u001b[0m it may be easiest to use 'pipx install xyz', which will manage a\n",
      "\u001b[31m   \u001b[0m virtual environment for you. Make sure you have python-pipx\n",
      "\u001b[31m   \u001b[0m installed via pacman.\n",
      "\n",
      "\u001b[1;35mnote\u001b[0m: If you believe this is a mistake, please contact your Python installation or OS distribution provider. You can override this, at the risk of breaking your Python installation or OS, by passing --break-system-packages.\n",
      "\u001b[1;36mhint\u001b[0m: See PEP 668 for the detailed specification.\n"
     ]
    }
   ],
   "source": [
    "!pip install stam"
   ]
  },
  {
   "cell_type": "markdown",
   "id": "600982ac",
   "metadata": {},
   "source": [
    "After installation we import this library:"
   ]
  },
  {
   "cell_type": "code",
   "execution_count": 2,
   "id": "a2178b90",
   "metadata": {},
   "outputs": [],
   "source": [
    "from stam import *\n",
    "from tabulate import tabulate"
   ]
  },
  {
   "cell_type": "markdown",
   "id": "65d1a6c3",
   "metadata": {},
   "source": [
    "### Obtaining the data\n",
    "\n",
    "We first obtain the data by downloading the original texts of the three books\n",
    "from DBNL, and by downloading the STAM model from Zenodo. The latter may take a\n",
    "while, please wait until it reports being done:"
   ]
  },
  {
   "cell_type": "code",
   "execution_count": 3,
   "id": "852056ab",
   "metadata": {},
   "outputs": [
    {
     "name": "stdout",
     "output_type": "stream",
     "text": [
      "Done!\n"
     ]
    }
   ],
   "source": [
    "import os.path\n",
    "from urllib.request import urlretrieve\n",
    "\n",
    "print(\"Downloading data...\")\n",
    "if not os.path.exists(\"hoof001hwva02.txt\"):\n",
    "    urlretrieve(\"https://www.dbnl.org/nieuws/text.php?id=hoof001hwva02\",\"hoof001hwva02.txt\")\n",
    "if not os.path.exists(\"hoof001hwva03.txt\"):\n",
    "    urlretrieve(\"https://www.dbnl.org/nieuws/text.php?id=hoof001hwva03\",\"hoof001hwva03.txt\")\n",
    "if not os.path.exists(\"hoof001hwva04.txt\"):\n",
    "    urlretrieve(\"https://www.dbnl.org/nieuws/text.php?id=hoof001hwva04\",\"hoof001hwva04.txt\")\n",
    "if not os.path.exists(\"hoof001hwva.output.store.stam.json\"):\n",
    "    #TODO: adapt link to Zenodo before final publication\n",
    "    urlretrieve(\"https://download.anaproy.nl/hoof001hwva.output.store.stam.json\",\"hoof001hwva.output.store.stam.json\")\n",
    "print(\"Done!\")"
   ]
  },
  {
   "cell_type": "markdown",
   "id": "86ebf4fe",
   "metadata": {},
   "source": [
    "### Loading the data\n",
    "\n",
    "Finally, we will load the texts and all annotations into memory:"
   ]
  },
  {
   "cell_type": "code",
   "execution_count": 4,
   "id": "27fe7191",
   "metadata": {},
   "outputs": [],
   "source": [
    "store = AnnotationStore(file=\"hoof001hwva.output.store.stam.json\")"
   ]
  },
  {
   "cell_type": "markdown",
   "id": "90a4800b",
   "metadata": {},
   "source": [
    "## Data exploration\n",
    "\n",
    "### Vocabularies\n",
    "\n",
    "Before we get to the actual texts and annotations, we first want to give some\n",
    "insight into the vocabularies that are used in this project. Understanding and\n",
    "exploring the vocabularies is important to be able to make sensible queries\n",
    "later on.\n",
    "\n",
    "Vocabularies used by the annotations are grouped into so-called **annotation data\n",
    "sets**, within these sets, **keys** are defined. Notable keys in this project are the following:\n",
    "\n",
    "| Set | Key\t| Explanation |\n",
    "| --- | --- | ----------- |\n",
    "| `https://w3id.org/folia/v2/` | `elementtype` | Indicates the type of FoLiA element of this annotation (e.g. `s` (sentence), `w`(word), `pos`, `lemma`) | \n",
    "| `gustave-pos` | `class` | The Part-of-Speech tag, manually assigned by the annotator, according to the CGN tagset and an extension thereof |\n",
    "| `gustave-lemma` |\t`class` | The lemma, manually assigned by the annotator |\n",
    "| `http://ilk.uvt.nl/folia/sets/frog-mbpos-cgn`\t| `class` | The Part-of-Speech tag, automatically annotated by Frog, according to the CGN tagset |\n",
    "| `http://ilk.uvt.nl/folia/sets/frog-mblem-nl` | `class` | The lemma, automatically annotated by Frog |\n",
    "| `https://w3id.org/folia/v2/` | `confidence` | The confidence value that was assigned to the annotation (a value between 0 and 1, occurs with automatic annotations by Frog) | \n",
    "| `brieven-van-hooft-metadata` |  `dbnl_id` | The full letter identifier as assigned by the DBNL. You will find this key and others in this set on annotations of letters as a whole. |\n",
    "| `brieven-van-hooft-metadata` |  `dated` | The date of a letter |\n",
    "| `brieven-van-hooft-metadata` |  `recipient` | The name of the recipient of a letter |\n",
    "| `brieven-van-hooft-metadata` |  `letter_id` | The letter sequence number (not necessarily entirely numerical) |\n",
    "| `brieven-van-hooft-metadata` |  `invididual` | `True` if the recipient is an individual, `False` if it's an organization or group  |\n",
    "| `brieven-van-hooft-metadata` |  `gender` | The gender of the recipient: `male` or `female` (not much space for gender fluidity in the 17th century) |\n",
    "| `brieven-van-hooft-metadata` |  `function` | Occupation of the recipient, type of organisation of the recipient or type of personal relation to the recipient. Free value. |\n",
    "| `brieven-van-hooft-metadata` |  `literary` | `True` if the recipient is a literary author, `False` otherwise |\n",
    "| `brieven-van-hooft-categories` |  `function` | Function of the letter (closed vocabulary). You will find this key and others in this set on annotations of letters as a whole. |\n",
    "| `brieven-van-hooft-categories` |  `topic` | Topic of the letter (closed vocabulary) |\n",
    "| `brieven-van-hooft-categories` |  `business` | `True` if it's a business letter, `False` if it's a personal letter |\n",
    "| `brieven-van-hooft-categories` |  `accompanying` | `True` if it's an accompanying letter, `False` if it's an independent letter |\n",
    "| `brieven-van-hooft-categories` |  `part` | This key is found on annotations that identifies *parts* of letters, values are a closed vocabulary containing `greeting`, `opening`, `narratio`, `closing`, `finalgreeting` |"
   ]
  },
  {
   "cell_type": "markdown",
   "id": "c274a309",
   "metadata": {},
   "source": [
    "If you want to see what keys exist in a particular set, adapt and run the following code:"
   ]
  },
  {
   "cell_type": "code",
   "execution_count": null,
   "id": "912ec9cc",
   "metadata": {},
   "outputs": [],
   "source": [
    "dataset = store.dataset(\"brieven-van-hooft-metadata\")\n",
    "for k in sorted(str(x) for x in dataset.keys()):\n",
    "    print(k)"
   ]
  },
  {
   "cell_type": "markdown",
   "id": "e7f9f714",
   "metadata": {},
   "source": [
    "Keys in turn may be associated with one or more **values**. Such a key/value\n",
    "pair is then called **annotation data**.\n",
    "\n",
    "If you want to explore all the values (annotation data) that exist for a given\n",
    "set and key, then you can adapt and run the following code. This code by\n",
    "default shows all the manually annotated Part-of-Speech tags that occur in the\n",
    "data, and a frequency count in how many annotations this data occurs:"
   ]
  },
  {
   "cell_type": "code",
   "execution_count": 8,
   "id": "295f4fe1",
   "metadata": {},
   "outputs": [
    {
     "ename": "TypeError",
     "evalue": "'<' not supported between instances of 'stam.AnnotationData' and 'stam.AnnotationData'",
     "output_type": "error",
     "traceback": [
      "\u001b[0;31m---------------------------------------------------------------------------\u001b[0m",
      "\u001b[0;31mTypeError\u001b[0m                                 Traceback (most recent call last)",
      "Cell \u001b[0;32mIn[8], line 2\u001b[0m\n\u001b[1;32m      1\u001b[0m dataset \u001b[38;5;241m=\u001b[39m store\u001b[38;5;241m.\u001b[39mdataset(\u001b[38;5;124m\"\u001b[39m\u001b[38;5;124mgustave-pos\u001b[39m\u001b[38;5;124m\"\u001b[39m)\n\u001b[0;32m----> 2\u001b[0m \u001b[38;5;28;01mfor\u001b[39;00m value \u001b[38;5;129;01min\u001b[39;00m \u001b[38;5;28;43msorted\u001b[39;49m\u001b[43m(\u001b[49m\u001b[43mdataset\u001b[49m\u001b[38;5;241;43m.\u001b[39;49m\u001b[43mkey\u001b[49m\u001b[43m(\u001b[49m\u001b[38;5;124;43m\"\u001b[39;49m\u001b[38;5;124;43mclass\u001b[39;49m\u001b[38;5;124;43m\"\u001b[39;49m\u001b[43m)\u001b[49m\u001b[38;5;241;43m.\u001b[39;49m\u001b[43mdata\u001b[49m\u001b[43m(\u001b[49m\u001b[43m)\u001b[49m\u001b[43m)\u001b[49m:\n\u001b[1;32m      3\u001b[0m     \u001b[38;5;28mprint\u001b[39m(value)\n",
      "\u001b[0;31mTypeError\u001b[0m: '<' not supported between instances of 'stam.AnnotationData' and 'stam.AnnotationData'"
     ]
    }
   ],
   "source": [
    "#first we set the dataset and the key we want to query, you can adapt this to query for other sets and keys:\n",
    "dataset = store.dataset(\"gustave-pos\")\n",
    "key = dataset.key(\"class\")\n",
    "\n",
    "#then we obtain the data, the frequency, sort it, and render it, don't worry if you don't understand this part entirely\n",
    "tabulate(sorted(((str(data), data.annotations_len()) for data in key.data())), tablefmt=\"html\")"
   ]
  },
  {
   "cell_type": "markdown",
   "id": "a670256a",
   "metadata": {},
   "source": [
    "Or if you want this sorted by frequency instead, you can adapt and run the following:"
   ]
  },
  {
   "cell_type": "code",
   "execution_count": null,
   "id": "e553961e",
   "metadata": {},
   "outputs": [],
   "source": [
    "#don't worry if you don't understand this line\n",
    "tabulate(sorted(((str(data), data.annotations_len()) for data in key.data()), key=lambda x: -1 * x[1]), tablefmt=\"html\")"
   ]
  },
  {
   "cell_type": "markdown",
   "id": "c6541c54",
   "metadata": {},
   "source": [
    "To give an impression of the various metadata available in this project, we will give an overview of all metadata per letters:"
   ]
  },
  {
   "cell_type": "code",
   "execution_count": null,
   "id": "401acd7e",
   "metadata": {},
   "outputs": [],
   "source": [
    "dataset = store.dataset(\"brieven-van-hooft-metadata\")\n",
    "key = dataset.key(\"dbnl_id\")\n",
    "\n",
    "for dbnl_id, data in sorted(((str(data), data) for data in key.data())):\n",
    "    annotation = next(data.annotations())\n",
    "    print(dbnl_id)"
   ]
  }
 ],
 "metadata": {
  "jupytext": {
   "cell_metadata_filter": "-all",
   "notebook_metadata_filter": "-all"
  },
  "kernelspec": {
   "display_name": "brieven-van-hooft-notebook",
   "language": "python",
   "name": "brieven-van-hooft-notebook"
  },
  "language_info": {
   "codemirror_mode": {
    "name": "ipython",
    "version": 3
   },
   "file_extension": ".py",
   "mimetype": "text/x-python",
   "name": "python",
   "nbconvert_exporter": "python",
   "pygments_lexer": "ipython3",
   "version": "3.12.4"
  }
 },
 "nbformat": 4,
 "nbformat_minor": 5
}
